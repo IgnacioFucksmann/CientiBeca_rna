{
 "cells": [
  {
   "cell_type": "code",
   "execution_count": 2,
   "metadata": {},
   "outputs": [],
   "source": [
    "from matplotlib import pyplot as plt\n",
    "import numpy as np\n",
    "import torch as tr\n",
    "from torch import nn\n",
    "import pandas as pd\n",
    "from torch.utils.tensorboard import SummaryWriter\n",
    "import csv\n",
    "import draw_rna.draw as draw\n",
    "from draw_rna.draw_utils import seq2col\n",
    "import os \n",
    "import csv"
   ]
  },
  {
   "cell_type": "code",
   "execution_count": 3,
   "metadata": {},
   "outputs": [],
   "source": [
    "secdist = pd.read_csv('RNA_dist\\data\\SequenceIdentity_f_all.csv')\n",
    "names=secdist['id']\n",
    "aux=np.array(secdist.iloc[:,1:])\n",
    "aux2=secdist.columns[1:]\n",
    "secdist = pd.DataFrame(aux,index=aux2,columns=aux2)"
   ]
  },
  {
   "cell_type": "code",
   "execution_count": 4,
   "metadata": {},
   "outputs": [
    {
     "data": {
      "text/plain": [
       "813"
      ]
     },
     "execution_count": 4,
     "metadata": {},
     "output_type": "execute_result"
    }
   ],
   "source": [
    "medioides = pd.read_csv('RNA_dist\\medioides.csv')\n",
    "medioides.iloc[2][0]\n"
   ]
  },
  {
   "cell_type": "code",
   "execution_count": 5,
   "metadata": {},
   "outputs": [
    {
     "data": {
      "text/plain": [
       "0.0903010033444816"
      ]
     },
     "execution_count": 5,
     "metadata": {},
     "output_type": "execute_result"
    }
   ],
   "source": [
    "secdist.iloc[0][433]"
   ]
  },
  {
   "cell_type": "code",
   "execution_count": 6,
   "metadata": {},
   "outputs": [],
   "source": [
    "def file_opener(file_name):\n",
    "    data_set=[]\n",
    "    with open(file_name, newline = '') as data:                                                                                         \n",
    "        data_reader = csv.reader(data, delimiter=',')\n",
    "        for dat in data_reader:\n",
    "            data_set.append(dat)\n",
    "    return data_set\n",
    "data_set=file_opener('RNA_dist\\data\\\\archiveII_220808.csv')"
   ]
  },
  {
   "cell_type": "code",
   "execution_count": 7,
   "metadata": {},
   "outputs": [
    {
     "data": {
      "text/plain": [
       "'5s_Acholeplasma-laidlawii-1'"
      ]
     },
     "execution_count": 7,
     "metadata": {},
     "output_type": "execute_result"
    }
   ],
   "source": [
    "data_set=np.array(data_set)\n",
    "# data_set = np.array([data_set[1:][:,1],data_set[1:][:,3],data_set[1:][:,4]])\n",
    "sdasdasd=data_set[1:]\n",
    "sdasdasd[0][1]"
   ]
  },
  {
   "attachments": {},
   "cell_type": "markdown",
   "metadata": {},
   "source": [
    "### utils"
   ]
  },
  {
   "cell_type": "code",
   "execution_count": 8,
   "metadata": {},
   "outputs": [],
   "source": [
    "def seq_to_pair(seq):\n",
    "    seq_np=list(seq)\n",
    "    seq_open=[]\n",
    "    pairs=[]\n",
    "    for it,char in enumerate(seq_np):\n",
    "        if (char=='('):\n",
    "            seq_open.append(it+1)\n",
    "        if (char==')'):\n",
    "            pairs.append([seq_open[-1],it+1])\n",
    "            seq_open=seq_open[:-1]\n",
    "    pairs=pairs[::-1]\n",
    "    # pairs=', '.join(str(e) for e in pairs)\n",
    "    # pairs='['+pairs+']'\n",
    "    return pairs\n",
    "\n",
    "\n",
    "def replace_E(seq):\n",
    "    str=list(seq)\n",
    "    for it in range(len(str)):\n",
    "        print(str[it])\n",
    "        if(str[it]=='('):\n",
    "            break    \n",
    "        else:\n",
    "            str[it]='-'\n",
    "    print('SALIO')\n",
    "    for it in range(len(str)-1,0,-1):\n",
    "        if(str[it]==')'):\n",
    "            break   \n",
    "        else:\n",
    "            str[it]='-'\n",
    "    return str\n",
    "    \n",
    "    \n",
    "def dot_to_motif(seq, struct):\n",
    "    \"\"\"Get motifs from dot-bracket notation structure. Requieres bpRNA.pl script\"\"\"\n",
    "\n",
    "    with open('tmp.dbn', 'w') as fout:\n",
    "        fout.write('>id\\n')\n",
    "        fout.write(f'{seq}\\n')\n",
    "        fout.write(f'{struct}\\n')\n",
    "        \n",
    "    os.system('perl extras/bpRNA.pl tmp.dbn')\n",
    "    with open('tmp.st') as fin:\n",
    "        k = 0\n",
    "        for line in fin:\n",
    "            if line[0] == '#':\n",
    "                continue\n",
    "            if k == 2:\n",
    "                motif = line.strip()\n",
    "                break\n",
    "            else:\n",
    "                k += 1\n",
    "    os.remove('tmp.dbn')\n",
    "    os.remove('tmp.st')\n",
    "    return motif\n",
    "\n",
    "def seq_len(seq):\n",
    "   lenght=len(list(seq))\n",
    "   return lenght\n",
    "\n",
    "def make_data_set(data_set):\n",
    "    data=[['id','sequence','structure','base_pairs','len']]\n",
    "    for i in data_set[1:]:\n",
    "        if seq_len(i[3]) < 130:\n",
    "            data.append([i[1],i[3],i[4],seq_to_pair(i[4]),seq_len(i[3])])\n",
    "      \n",
    "\n",
    "        # data=data+i[0]+',SOLUTION NMR,'+i[1]+','+i[2]+','+'\"'+pair+'\"'+','+str(lenght)+'\\n'\n",
    "    writer=pd.DataFrame(data)\n",
    "    writer.to_csv('dist01.csv',sep=',',header=False,index=False)\n",
    "    return data\n",
    "\n",
    "def valid_mask(seq):\n",
    "    \"\"\"Create a NxN mask with valid canonic pairings.\"\"\"\n",
    "    valid_pairs = [{\"G\", \"C\"}, {\"A\", \"U\"}, {\"G\", \"U\"}]\n",
    "    mask = tr.zeros((len(seq), len(seq)), dtype=tr.float32)\n",
    "    for i in range(len(seq)):\n",
    "        for j in range(len(seq)):\n",
    "            if i != j:\n",
    "                if {seq[i], seq[j]} in valid_pairs:\n",
    "                    mask[i, j] = 1\n",
    "                    mask[j, i] = 1\n",
    "    return mask\n",
    "\n",
    "\n"
   ]
  },
  {
   "cell_type": "code",
   "execution_count": 9,
   "metadata": {},
   "outputs": [],
   "source": [
    "data=make_data_set(data_set)"
   ]
  },
  {
   "attachments": {},
   "cell_type": "markdown",
   "metadata": {},
   "source": [
    "# Dataset"
   ]
  },
  {
   "cell_type": "code",
   "execution_count": 10,
   "metadata": {},
   "outputs": [],
   "source": [
    "import torch as tr\n",
    "import torchvision\n",
    "from torch.utils.data import Dataset, DataLoader\n",
    "import numpy as np\n",
    "import math\n",
    "import json\n",
    "from torch.nn.functional import cross_entropy"
   ]
  },
  {
   "cell_type": "code",
   "execution_count": 11,
   "metadata": {},
   "outputs": [],
   "source": [
    "class OneHot():\n",
    "    def __init__(self):\n",
    "        self.pad_token = \"-\"\n",
    "        self.vocabulary = ['A', 'U', 'G', 'C'] \n",
    "        self.emb_size = 4\n",
    "        \n",
    "    def seq2onehot(self, seq):\n",
    "        emb = tr.zeros((self.emb_size, len(seq)), dtype=tr.float)\n",
    "        for k, nt in enumerate(seq):\n",
    "            # print(f'letra = {nt} indice = {k}')\n",
    "            if nt == self.pad_token:\n",
    "                continue\n",
    "            if nt in self.vocabulary:\n",
    "                emb[self.vocabulary.index(nt), k] = 1\n",
    "            else:\n",
    "                emb[:, k] = 1/self.emb_size\n",
    "            # print(f'embedding = {emb}')\n",
    "        return emb     "
   ]
  },
  {
   "cell_type": "code",
   "execution_count": 12,
   "metadata": {},
   "outputs": [],
   "source": [
    "class Data_dist(Dataset):\n",
    "\n",
    "    def __init__(self,dataset_path, min_len=0, max_len=200,padding=True,random_pad=False):\n",
    "        dat=pd.read_csv(dataset_path,index_col=None)\n",
    "        dat = dat[(dat.len > min_len) & (dat.len < max_len)]\n",
    "        self.lenght=dat.len\n",
    "        self.max_len=max_len\n",
    "        self.id=dat.id\n",
    "        self.seq=dat.sequence\n",
    "        self.struct=dat.structure\n",
    "        self.pair=[json.loads(dat.base_pairs.iloc[i]) for i in range(len(dat))]\n",
    "        self.n_samples=dat.shape[0]\n",
    "        self.padding = padding\n",
    "        self.pad_token = '-'\n",
    "        self.random_pad = random_pad\n",
    "        self.embedding = OneHot()\n",
    "\n",
    "    def __getitem__(self,index):\n",
    "        id = self.id.iloc[index]\n",
    "        len_seq = len(self.seq.iloc[index])\n",
    "        connections = tr.tensor(self.pair[index]) -1\n",
    "        sequence,Mc = self.pad_sequence(self.seq.iloc[index],connections)\n",
    "        seq_emb=self.embedding.seq2onehot(sequence)\n",
    "        mask = valid_mask(sequence)\n",
    "        return seq_emb,Mc,len_seq,mask,id\n",
    "    def __len__(self): \n",
    "        return self.n_samples\n",
    "\n",
    "        \n",
    "    def pad_sequence(self, sequence, connections):\n",
    "        \"\"\"Pad sequence and create connection matrix to max length\"\"\"\n",
    "        left_pad, right_pad = 0, 0 \n",
    "        if self.padding:\n",
    "            left_pad = 0\n",
    "            right_pad = self.max_len - len(sequence)\n",
    "            if self.random_pad:\n",
    "                left_pad = np.random.randint(right_pad)\n",
    "                right_pad -= left_pad\n",
    "\n",
    "\n",
    "        sequence = self.pad_token*left_pad + sequence + self.pad_token*right_pad\n",
    "        # Conection matrix: -1 padding, 0 is not connected, 1 is connected\n",
    "        Mc = -tr.ones((len(sequence), len(sequence)), dtype=tr.float32)      \n",
    "        if right_pad > 0:\n",
    "            Mc[left_pad:-right_pad, left_pad:-right_pad] = 0\n",
    "        else:\n",
    "            Mc[left_pad:, left_pad:] = 0\n",
    "\n",
    "        if len(connections)>0:\n",
    "            # for i in range(len(connections)):\n",
    "            #     Mc[connections[][0] + left_pad, connections[i][1] + left_pad] = 1\n",
    "            Mc[connections[:,0] + left_pad, connections[:,1] + left_pad] = 1\n",
    "            Mc[connections[:,1] + left_pad, connections[:,0] + left_pad] = 1\n",
    "        else:\n",
    "            print(f\"Warning: sequence {sequence} do not have any connections\")\n",
    "        return sequence, Mc.long()"
   ]
  },
  {
   "cell_type": "code",
   "execution_count": 13,
   "metadata": {},
   "outputs": [],
   "source": [
    "# from matplotlib import pyplot as plt\n",
    "# %matplotlib widget\n",
    "# dataset=Data_dist('dist01.csv')\n",
    "# sequence=dataset.seq\n",
    "# L = len(sequence)\n",
    "# seq_emb,mc,long,mask=dataset.__getitem__(158)\n",
    "# plt.imshow(mc[:long, :long])\n",
    "# plt.title(\"Matriz de conexiones\")\n",
    "# plt.figure()\n",
    "# plt.imshow(mask[:long, :long])\n",
    "# plt.title(\"Máscara de conexiones válidas (G-C, A-U, G-U)\")"
   ]
  },
  {
   "attachments": {},
   "cell_type": "markdown",
   "metadata": {},
   "source": [
    "# Metricas"
   ]
  },
  {
   "cell_type": "code",
   "execution_count": 14,
   "metadata": {},
   "outputs": [
    {
     "name": "stderr",
     "output_type": "stream",
     "text": [
      "c:\\Users\\ignac\\anaconda3\\envs\\env1\\lib\\site-packages\\scipy\\__init__.py:146: UserWarning: A NumPy version >=1.16.5 and <1.23.0 is required for this version of SciPy (detected version 1.23.3\n",
      "  warnings.warn(f\"A NumPy version >={np_minversion} and <{np_maxversion}\"\n"
     ]
    }
   ],
   "source": [
    "from sklearn.metrics import f1_score\n",
    "#se suele usar f1 score para todo lo que sean matrices?????????!\n",
    "def get_f1(ref_batch,predict_batch,L,th=0.5):\n",
    "    f1 = []\n",
    "    for ref,predict,l in zip(ref_batch,predict_batch,L):\n",
    "        ind = tr.where(ref!=-1)\n",
    "        ref = ref[ind].view(l, l)\n",
    "        predict = predict[ind].view(l, l)\n",
    "\n",
    "        #esto si no lo entiendo\n",
    "        predict = tr.sigmoid(predict) > th\n",
    "\n",
    "        #parte para tener la matriz triangular superior\n",
    "        ind = tr.triu_indices(ref.shape[0], ref.shape[1], offset=1)\n",
    "        ref = ref[ind[0], ind[1]].numpy().ravel()\n",
    "        predict = predict[ind[0], ind[1]].numpy().ravel()\n",
    "        f1.append(f1_score(ref, predict, zero_division=1))\n",
    "    return tr.tensor(f1).mean()"
   ]
  },
  {
   "cell_type": "code",
   "execution_count": 15,
   "metadata": {},
   "outputs": [
    {
     "name": "stdout",
     "output_type": "stream",
     "text": [
      "model(\n",
      "  (conv): Conv2d(3, 34, kernel_size=(5, 5), stride=(3, 3))\n",
      "  (conv1): Conv2d(34, 66, kernel_size=(5, 5), stride=(3, 3))\n",
      "  (dropout): Dropout2d(p=0.27, inplace=False)\n",
      "  (dropout1): Dropout2d(p=0.7, inplace=False)\n",
      "  (fc): Linear(in_features=9218, out_features=130, bias=True)\n",
      "  (fc1): Linear(in_features=130, out_features=12, bias=True)\n",
      ")\n"
     ]
    }
   ],
   "source": [
    "\n",
    "class model(nn.Module):\n",
    "    def __init__(self):\n",
    "      super(model, self).__init__()\n",
    "\n",
    "      self.conv = nn.Conv2d(3, 34, 5, 3)\n",
    "      self.conv1 = nn.Conv2d(34, 66, 5, 3)\n",
    "\n",
    "      self.dropout = nn.Dropout2d(0.27)\n",
    "      self.dropout1 = nn.Dropout2d(0.7)\n",
    "      self.fc = nn.Linear(9218, 130)\n",
    "      # Second fully connected layer that outputs our 10 labels\n",
    "      self.fc1 = nn.Linear(130, 12)\n",
    "\n",
    "nnmodel = model()\n",
    "print(nnmodel)"
   ]
  },
  {
   "cell_type": "code",
   "execution_count": 48,
   "metadata": {},
   "outputs": [
    {
     "name": "stdout",
     "output_type": "stream",
     "text": [
      "tensor([1, 2, 3, 4, 5, 6]) tensor([[1, 2, 3],\n",
      "        [4, 5, 6]])\n"
     ]
    },
    {
     "ename": "ValueError",
     "evalue": "could not broadcast input array from shape (5,) into shape (3,)",
     "output_type": "error",
     "traceback": [
      "\u001b[1;31m---------------------------------------------------------------------------\u001b[0m",
      "\u001b[1;31mValueError\u001b[0m                                Traceback (most recent call last)",
      "Cell \u001b[1;32mIn[48], line 5\u001b[0m\n\u001b[0;32m      3\u001b[0m \u001b[39mprint\u001b[39m(t,t2)\n\u001b[0;32m      4\u001b[0m t2 \u001b[39m=\u001b[39m np\u001b[39m.\u001b[39marray(t2)\n\u001b[1;32m----> 5\u001b[0m t2[\u001b[39m0\u001b[39;49m]\u001b[39m=\u001b[39mnp\u001b[39m.\u001b[39marray([\u001b[39m1\u001b[39m,\u001b[39m2\u001b[39m,\u001b[39m3\u001b[39m,\u001b[39m4\u001b[39m,\u001b[39m5\u001b[39m])\n",
      "\u001b[1;31mValueError\u001b[0m: could not broadcast input array from shape (5,) into shape (3,)"
     ]
    }
   ],
   "source": [
    "t = tr.tensor([1,2,3,4,5,6])\n",
    "t2 = t.view(2,3)\n",
    "print(t,t2)\n",
    "t2 = np.array(t2)\n",
    "t2[0]=np.array([1,2,3,4,5])"
   ]
  },
  {
   "cell_type": "code",
   "execution_count": 66,
   "metadata": {},
   "outputs": [
    {
     "ename": "TypeError",
     "evalue": "'int' object is not iterable",
     "output_type": "error",
     "traceback": [
      "\u001b[1;31m---------------------------------------------------------------------------\u001b[0m",
      "\u001b[1;31mTypeError\u001b[0m                                 Traceback (most recent call last)",
      "Cell \u001b[1;32mIn[66], line 1\u001b[0m\n\u001b[1;32m----> 1\u001b[0m a \u001b[39m=\u001b[39m tr\u001b[39m.\u001b[39;49mSize( \u001b[39m3\u001b[39;49m)\n\u001b[0;32m      2\u001b[0m b \u001b[39m=\u001b[39m tr\u001b[39m.\u001b[39mSize( \u001b[39m3\u001b[39m)\n\u001b[0;32m      4\u001b[0m result \u001b[39m=\u001b[39m tr\u001b[39m.\u001b[39mcat((a, b), dim\u001b[39m=\u001b[39m\u001b[39m1\u001b[39m)\n",
      "\u001b[1;31mTypeError\u001b[0m: 'int' object is not iterable"
     ]
    }
   ],
   "source": [
    "a = tr.Size( 3, 7)\n",
    "b = tr.Size(1, 3, 7)\n",
    "\n",
    "result = tr.cat((a, b), dim=1)"
   ]
  },
  {
   "cell_type": "code",
   "execution_count": 101,
   "metadata": {},
   "outputs": [],
   "source": [
    "def cluster_score(id,medioides):\n",
    "    cluster_offset=[]\n",
    "    secdist = pd.read_csv('RNA_dist\\data\\SequenceIdentity_f_all.csv')\n",
    "    id_pos=np.where(secdist['id']==id)[0][0]\n",
    "    for i in medioides.iloc:\n",
    "        cluster_offset.append(secdist.iloc[id_pos][i][0])\n",
    "    return cluster_offset\n",
    "\n",
    "def concatenate_data (id_list,medioides,sec_data,device):\n",
    "    new_data = tr.empty(len(id_list),pow(sec_data.shape[1],2)+len(medioides))\n",
    "    print(new_data.shape[1])\n",
    "    for i in range(len(id_list)):\n",
    "        offset = cluster_score(id_list[i],medioides)\n",
    "        offset = tr.tensor(offset).to(device)\n",
    "        new_data[i]= tr.cat((tr.flatten(sec_data[i]),offset))\n",
    "    return new_data.to(device)"
   ]
  },
  {
   "cell_type": "code",
   "execution_count": 99,
   "metadata": {},
   "outputs": [
    {
     "name": "stdout",
     "output_type": "stream",
     "text": [
      "640030\n"
     ]
    },
    {
     "data": {
      "text/plain": [
       "2"
      ]
     },
     "execution_count": 99,
     "metadata": {},
     "output_type": "execute_result"
    }
   ],
   "source": [
    "\n",
    "lala=concatenate_data(['5s_Acholeplasma-laidlawii-1','5s_Acholeplasma-laidlawii-1'],medioides,tr.randn(2,800,800),'cpu')\n",
    "len(lala)"
   ]
  },
  {
   "attachments": {},
   "cell_type": "markdown",
   "metadata": {},
   "source": [
    "# Modelo"
   ]
  },
  {
   "cell_type": "code",
   "execution_count": 135,
   "metadata": {},
   "outputs": [],
   "source": [
    "class ignacioDist(nn.Module):\n",
    "    def __init__(self, embedding_dim=4, device=\"cpu\", negative_weight=.1, lr=1e-3, \n",
    "    logger=None, pred_l1=.01, use_scheduler=False,offset=30,max_len=200, **kwargs):\n",
    "        super().__init__()\n",
    "        self.device=device\n",
    "        self.k = offset\n",
    "        self.len=max_len\n",
    "        #por que espesificamente el adam\n",
    "        #para luego escalar de 0 a 1 el crossentropy\n",
    "        self.class_weight = tr.tensor([negative_weight, 1.]).float().to(device)\n",
    "        self.build_graph(embedding_dim,**kwargs)\n",
    "        self.optim =  tr.optim.Adam(self.parameters(), lr=lr)\n",
    "\n",
    "        self.to(device)\n",
    "\n",
    "\n",
    "    \n",
    "    def build_graph (self,emb_dim,kernel=9,filters=50,rank=32):\n",
    "        pad = (kernel-1)//2\n",
    "        dilation = 4\n",
    "        self.cnn = nn.Sequential(nn.Conv1d(in_channels=emb_dim, out_channels=filters, \n",
    "                                        kernel_size=kernel, padding = pad, stride=1),\n",
    "                                nn.ReLU(),\n",
    "                                nn.BatchNorm1d(filters),\n",
    "                                nn.Conv1d(in_channels=filters, out_channels=filters, \n",
    "                                        kernel_size=kernel, dilation = dilation,\n",
    "                                        padding=dilation*pad, stride=1),\n",
    "                                nn.ReLU(),\n",
    "                                nn.BatchNorm1d(filters),\n",
    "                                nn.Conv1d(in_channels=filters, out_channels=filters, \n",
    "                                        kernel_size=kernel, dilation = dilation,\n",
    "                                        padding=dilation*pad, stride=1),\n",
    "                                nn.ReLU(),\n",
    "                                nn.BatchNorm1d(filters),\n",
    "                                nn.Conv1d(in_channels=filters, out_channels=filters//2, \n",
    "                                        kernel_size=kernel, padding = pad, stride=1),\n",
    "                                nn.Sigmoid(),)  \n",
    "        self.convsal1 = nn.Conv1d(in_channels=filters//2, out_channels=rank, kernel_size=kernel, \n",
    "                                  padding=pad, stride=1)\n",
    "        self.convsal2 = nn.Conv1d(in_channels=filters//2,  out_channels=rank, kernel_size=kernel,\n",
    "                                  padding = pad, stride=1)\n",
    "        self.linear = nn.Sequential(nn.Flatten(),\n",
    "                                    nn.Linear(in_features=pow(self.len,2)+self.k, out_features=pow(self.len,2),bias=False))\n",
    "        \n",
    "    def forward (self,x,id_list):\n",
    "        n = x.shape[2]\n",
    "        y = self.cnn(x)\n",
    "    \n",
    "        ya = self.convsal1(y)\n",
    "        ya = tr.transpose(ya, -1, -2)\n",
    "        print(y.shape[1],y.shape[2])\n",
    "        yb = self.convsal2(y)\n",
    "        print(yb.shape[1],yb.shape[2])\n",
    "        y = ya @ yb\n",
    "        print(y.shape[1],y.shape[2],y.shape[0])\n",
    "        yt =  tr.transpose(y, -1, -2)\n",
    "        \n",
    "        y = (y+yt)/2\n",
    "        # aca concatenas la informacion de cada cluster\n",
    "        print('longitud de y antes de la concatenacion ',len(y),y.shape[1],y.shape[2])\n",
    "        y = concatenate_data(id_list,medioides,y,self.device)\n",
    "        \n",
    "        print('despues de la concatenacion ',len(y))\n",
    "        y = self.linear(y)\n",
    "        print('pasa la capa linear')\n",
    "        y = y.view(n,n)\n",
    "        print(y)\n",
    "        #por que pone vectores adentro de otro vectores\n",
    "        y = y.view(-1, n, n)\n",
    "        return y\n",
    "#loss and optim\n",
    "    def loss_func(self,yt,y):\n",
    "\n",
    "        #devuelta lo mismo\n",
    "        y = y.view(y.shape[0], -1)\n",
    "        yt = yt.view(yt.shape[0], -1)\n",
    "\n",
    "        #no es la diferencia?\n",
    "        pred_l1_loss =  tr.mean(tr.abs(yt[y!=-1])) * 0.01 \n",
    "\n",
    "\n",
    "        #por que no usar devuelta view\n",
    "        yt = yt.unsqueeze(1)\n",
    "        #hizo algo el codigo anterior desp de esto? tipo no se deshizo?\n",
    "        yt = tr.cat((-yt, yt), dim=1) \n",
    "        error = cross_entropy(yt, y, ignore_index=-1, weight=self.class_weight)\n",
    "        loss= error + pred_l1_loss\n",
    "        return loss\n",
    "    \n",
    "    def tr(self,data_loader):\n",
    "        self.train()\n",
    "        avg_loss=0\n",
    "        avg_f1 = 0\n",
    "        train_step = 0\n",
    "        for batch in data_loader:\n",
    "            x = batch[0].to(self.device)\n",
    "            y = batch[1].to(self.device)\n",
    "            id_z = batch[4]\n",
    "\n",
    "            y_tr = self.forward(x,id_z)\n",
    "            self.optim.zero_grad()  \n",
    "            y_tr = self.forward(x)\n",
    "        \n",
    "            loss = self.loss_func(y_tr,y)\n",
    "            f1 = get_f1(y.cpu(), y_tr.detach().cpu(), batch[2])\n",
    "            avg_f1 += f1\n",
    "            avg_loss += loss\n",
    "            loss.backward() \n",
    "            self.optim.step()\n",
    "            train_step+=1\n",
    "\n",
    "        avg_f1 /= len(data_loader)\n",
    "        avg_loss /= len(data_loader)\n",
    "        return avg_loss,avg_f1\n",
    "    def tst(self,data_loader):\n",
    "        self.eval() \n",
    "        avg_loss=0\n",
    "        avg_f1=0\n",
    "        test_step = 0\n",
    "        #desactivamos el gradiente por que no hacemos backward()\n",
    "        with tr.no_grad():       \n",
    "            for batch in data_loader:\n",
    "                x = batch[0].to(self.device)\n",
    "                y = batch[1].to(self.device)\n",
    "                id_z = batch[4]\n",
    "                #por que aca y no desp\n",
    "                y_tst = self.forward(x,id_z)\n",
    "                # y_tst=tr.tensor([[x], *batch[2:]])\n",
    "                loss = self.loss_func(y_tst,y)\n",
    "                #.detach()?????????\n",
    "                f1 = get_f1(y.cpu(), y_tst.detach().cpu(), batch[2])\n",
    "                avg_loss += loss\n",
    "                avg_f1 += f1\n",
    "                test_step+=1\n",
    "            avg_loss /= len(data_loader)\n",
    "            avg_f1 /= len(data_loader)\n",
    "            \n",
    "            return avg_loss,avg_f1\n"
   ]
  },
  {
   "attachments": {},
   "cell_type": "markdown",
   "metadata": {},
   "source": [
    "# main\n"
   ]
  },
  {
   "cell_type": "code",
   "execution_count": 129,
   "metadata": {},
   "outputs": [
    {
     "ename": "KeyboardInterrupt",
     "evalue": "",
     "output_type": "error",
     "traceback": [
      "\u001b[1;31m---------------------------------------------------------------------------\u001b[0m",
      "\u001b[1;31mKeyboardInterrupt\u001b[0m                         Traceback (most recent call last)",
      "Cell \u001b[1;32mIn[129], line 7\u001b[0m\n\u001b[0;32m      5\u001b[0m batch_size \u001b[39m=\u001b[39m \u001b[39m16\u001b[39m\n\u001b[0;32m      6\u001b[0m DEVICE \u001b[39m=\u001b[39m \u001b[39m\"\u001b[39m\u001b[39mcuda\u001b[39m\u001b[39m\"\u001b[39m \n\u001b[1;32m----> 7\u001b[0m model \u001b[39m=\u001b[39m ignacioDist(kernel\u001b[39m=\u001b[39;49m\u001b[39m11\u001b[39;49m, device\u001b[39m=\u001b[39;49mDEVICE) \n\u001b[0;32m      8\u001b[0m \u001b[39m# model.load_state_dict(tr.load(f\"{out_path}model_200len.pmt\"))\u001b[39;00m\n\u001b[0;32m      9\u001b[0m dataset\u001b[39m=\u001b[39mData_dist(\u001b[39m'\u001b[39m\u001b[39mdist01.csv\u001b[39m\u001b[39m'\u001b[39m,max_len\u001b[39m=\u001b[39m\u001b[39m800\u001b[39m)\n",
      "Cell \u001b[1;32mIn[127], line 11\u001b[0m, in \u001b[0;36mignacioDist.__init__\u001b[1;34m(self, embedding_dim, device, negative_weight, lr, logger, pred_l1, use_scheduler, offset, max_len, **kwargs)\u001b[0m\n\u001b[0;32m      8\u001b[0m \u001b[39m#por que espesificamente el adam\u001b[39;00m\n\u001b[0;32m      9\u001b[0m \u001b[39m#para luego escalar de 0 a 1 el crossentropy\u001b[39;00m\n\u001b[0;32m     10\u001b[0m \u001b[39mself\u001b[39m\u001b[39m.\u001b[39mclass_weight \u001b[39m=\u001b[39m tr\u001b[39m.\u001b[39mtensor([negative_weight, \u001b[39m1.\u001b[39m])\u001b[39m.\u001b[39mfloat()\u001b[39m.\u001b[39mto(device)\n\u001b[1;32m---> 11\u001b[0m \u001b[39mself\u001b[39m\u001b[39m.\u001b[39mbuild_graph(embedding_dim,\u001b[39m*\u001b[39m\u001b[39m*\u001b[39mkwargs)\n\u001b[0;32m     12\u001b[0m \u001b[39mself\u001b[39m\u001b[39m.\u001b[39moptim \u001b[39m=\u001b[39m  tr\u001b[39m.\u001b[39moptim\u001b[39m.\u001b[39mAdam(\u001b[39mself\u001b[39m\u001b[39m.\u001b[39mparameters(), lr\u001b[39m=\u001b[39mlr)\n\u001b[0;32m     14\u001b[0m \u001b[39mself\u001b[39m\u001b[39m.\u001b[39mto(device)\n",
      "Cell \u001b[1;32mIn[127], line 43\u001b[0m, in \u001b[0;36mignacioDist.build_graph\u001b[1;34m(self, emb_dim, kernel, filters, rank)\u001b[0m\n\u001b[0;32m     38\u001b[0m \u001b[39mself\u001b[39m\u001b[39m.\u001b[39mconvsal1 \u001b[39m=\u001b[39m nn\u001b[39m.\u001b[39mConv1d(in_channels\u001b[39m=\u001b[39mfilters\u001b[39m/\u001b[39m\u001b[39m/\u001b[39m\u001b[39m2\u001b[39m, out_channels\u001b[39m=\u001b[39mrank, kernel_size\u001b[39m=\u001b[39mkernel, \n\u001b[0;32m     39\u001b[0m                           padding\u001b[39m=\u001b[39mpad, stride\u001b[39m=\u001b[39m\u001b[39m1\u001b[39m)\n\u001b[0;32m     40\u001b[0m \u001b[39mself\u001b[39m\u001b[39m.\u001b[39mconvsal2 \u001b[39m=\u001b[39m nn\u001b[39m.\u001b[39mConv1d(in_channels\u001b[39m=\u001b[39mfilters\u001b[39m/\u001b[39m\u001b[39m/\u001b[39m\u001b[39m2\u001b[39m,  out_channels\u001b[39m=\u001b[39mrank, kernel_size\u001b[39m=\u001b[39mkernel,\n\u001b[0;32m     41\u001b[0m                           padding \u001b[39m=\u001b[39m pad, stride\u001b[39m=\u001b[39m\u001b[39m1\u001b[39m)\n\u001b[0;32m     42\u001b[0m \u001b[39mself\u001b[39m\u001b[39m.\u001b[39mlinear \u001b[39m=\u001b[39m nn\u001b[39m.\u001b[39mSequential(nn\u001b[39m.\u001b[39mFlatten(),\n\u001b[1;32m---> 43\u001b[0m                             nn\u001b[39m.\u001b[39;49mLinear(in_features\u001b[39m=\u001b[39;49m\u001b[39mpow\u001b[39;49m(\u001b[39mself\u001b[39;49m\u001b[39m.\u001b[39;49mlen,\u001b[39m2\u001b[39;49m)\u001b[39m+\u001b[39;49m\u001b[39mself\u001b[39;49m\u001b[39m.\u001b[39;49mk, out_features\u001b[39m=\u001b[39;49m\u001b[39mpow\u001b[39;49m(\u001b[39mself\u001b[39;49m\u001b[39m.\u001b[39;49mlen,\u001b[39m2\u001b[39;49m),bias\u001b[39m=\u001b[39;49m\u001b[39mFalse\u001b[39;49;00m))\n",
      "File \u001b[1;32mc:\\Users\\ignac\\anaconda3\\envs\\env1\\lib\\site-packages\\torch\\nn\\modules\\linear.py:101\u001b[0m, in \u001b[0;36mLinear.__init__\u001b[1;34m(self, in_features, out_features, bias, device, dtype)\u001b[0m\n\u001b[0;32m     99\u001b[0m \u001b[39melse\u001b[39;00m:\n\u001b[0;32m    100\u001b[0m     \u001b[39mself\u001b[39m\u001b[39m.\u001b[39mregister_parameter(\u001b[39m'\u001b[39m\u001b[39mbias\u001b[39m\u001b[39m'\u001b[39m, \u001b[39mNone\u001b[39;00m)\n\u001b[1;32m--> 101\u001b[0m \u001b[39mself\u001b[39;49m\u001b[39m.\u001b[39;49mreset_parameters()\n",
      "File \u001b[1;32mc:\\Users\\ignac\\anaconda3\\envs\\env1\\lib\\site-packages\\torch\\nn\\modules\\linear.py:107\u001b[0m, in \u001b[0;36mLinear.reset_parameters\u001b[1;34m(self)\u001b[0m\n\u001b[0;32m    103\u001b[0m \u001b[39mdef\u001b[39;00m \u001b[39mreset_parameters\u001b[39m(\u001b[39mself\u001b[39m) \u001b[39m-\u001b[39m\u001b[39m>\u001b[39m \u001b[39mNone\u001b[39;00m:\n\u001b[0;32m    104\u001b[0m     \u001b[39m# Setting a=sqrt(5) in kaiming_uniform is the same as initializing with\u001b[39;00m\n\u001b[0;32m    105\u001b[0m     \u001b[39m# uniform(-1/sqrt(in_features), 1/sqrt(in_features)). For details, see\u001b[39;00m\n\u001b[0;32m    106\u001b[0m     \u001b[39m# https://github.com/pytorch/pytorch/issues/57109\u001b[39;00m\n\u001b[1;32m--> 107\u001b[0m     init\u001b[39m.\u001b[39;49mkaiming_uniform_(\u001b[39mself\u001b[39;49m\u001b[39m.\u001b[39;49mweight, a\u001b[39m=\u001b[39;49mmath\u001b[39m.\u001b[39;49msqrt(\u001b[39m5\u001b[39;49m))\n\u001b[0;32m    108\u001b[0m     \u001b[39mif\u001b[39;00m \u001b[39mself\u001b[39m\u001b[39m.\u001b[39mbias \u001b[39mis\u001b[39;00m \u001b[39mnot\u001b[39;00m \u001b[39mNone\u001b[39;00m:\n\u001b[0;32m    109\u001b[0m         fan_in, _ \u001b[39m=\u001b[39m init\u001b[39m.\u001b[39m_calculate_fan_in_and_fan_out(\u001b[39mself\u001b[39m\u001b[39m.\u001b[39mweight)\n",
      "File \u001b[1;32mc:\\Users\\ignac\\anaconda3\\envs\\env1\\lib\\site-packages\\torch\\nn\\init.py:412\u001b[0m, in \u001b[0;36mkaiming_uniform_\u001b[1;34m(tensor, a, mode, nonlinearity)\u001b[0m\n\u001b[0;32m    410\u001b[0m bound \u001b[39m=\u001b[39m math\u001b[39m.\u001b[39msqrt(\u001b[39m3.0\u001b[39m) \u001b[39m*\u001b[39m std  \u001b[39m# Calculate uniform bounds from standard deviation\u001b[39;00m\n\u001b[0;32m    411\u001b[0m \u001b[39mwith\u001b[39;00m torch\u001b[39m.\u001b[39mno_grad():\n\u001b[1;32m--> 412\u001b[0m     \u001b[39mreturn\u001b[39;00m tensor\u001b[39m.\u001b[39;49muniform_(\u001b[39m-\u001b[39;49mbound, bound)\n",
      "\u001b[1;31mKeyboardInterrupt\u001b[0m: "
     ]
    }
   ],
   "source": [
    "import torch as tr\n",
    "from torch.utils.data import DataLoader, random_split\n",
    "\n",
    "out_path = f\"results/\"\n",
    "batch_size = 16\n",
    "DEVICE = \"cuda\" \n",
    "model = ignacioDist(kernel=11, device=DEVICE) \n",
    "# model.load_state_dict(tr.load(f\"{out_path}model_200len.pmt\"))\n",
    "dataset=Data_dist('dist01.csv',max_len=800)\n",
    "\n",
    "#las mismas particiones para comparar desp con el mismo dataset\n",
    "\n",
    "n_train = int(0.8 * len(dataset))\n",
    "n_test = int(0.1 * len(dataset))\n",
    "n_val = len(dataset) - n_train - n_test\n",
    "\n",
    "\n",
    "#por que le ponen una seed????\n",
    "train_data, val_data, test_data = random_split(dataset, [n_train, n_val, n_test], generator=tr.Generator().manual_seed(42))\n",
    "train_loader = DataLoader(train_data, batch_size=batch_size, shuffle=True)\n",
    "val_loader = DataLoader(val_data, batch_size=batch_size, shuffle=False)\n",
    "test_loader = DataLoader(test_data, batch_size=batch_size, shuffle=False)\n",
    "\n",
    "print(\"train batches\", len(train_loader))\n",
    "print(\"val batches\", len(val_loader))\n",
    "print(\"test batches\", len(test_loader))\n",
    "best_f1, patience_counter = 0, 0\n",
    "\n",
    "\n",
    "for batch in test_loader:\n",
    "    x = batch[4]\n",
    "   "
   ]
  },
  {
   "cell_type": "code",
   "execution_count": 136,
   "metadata": {},
   "outputs": [
    {
     "ename": "OutOfMemoryError",
     "evalue": "CUDA out of memory. Tried to allocate 5.97 GiB (GPU 0; 6.00 GiB total capacity; 4.70 MiB already allocated; 4.79 GiB free; 10.00 MiB reserved in total by PyTorch) If reserved memory is >> allocated memory try setting max_split_size_mb to avoid fragmentation.  See documentation for Memory Management and PYTORCH_CUDA_ALLOC_CONF",
     "output_type": "error",
     "traceback": [
      "\u001b[1;31m---------------------------------------------------------------------------\u001b[0m",
      "\u001b[1;31mOutOfMemoryError\u001b[0m                          Traceback (most recent call last)",
      "Cell \u001b[1;32mIn[136], line 7\u001b[0m\n\u001b[0;32m      5\u001b[0m batch_size \u001b[39m=\u001b[39m \u001b[39m2\u001b[39m\n\u001b[0;32m      6\u001b[0m DEVICE \u001b[39m=\u001b[39m \u001b[39m\"\u001b[39m\u001b[39mcuda\u001b[39m\u001b[39m\"\u001b[39m \n\u001b[1;32m----> 7\u001b[0m model \u001b[39m=\u001b[39m ignacioDist(kernel\u001b[39m=\u001b[39;49m\u001b[39m11\u001b[39;49m, device\u001b[39m=\u001b[39;49mDEVICE,max_len\u001b[39m=\u001b[39;49m\u001b[39m200\u001b[39;49m) \n\u001b[0;32m      8\u001b[0m \u001b[39m# model.load_state_dict(tr.load(f\"{out_path}model_200len.pmt\"))\u001b[39;00m\n\u001b[0;32m      9\u001b[0m \u001b[39mprint\u001b[39m(\u001b[39m'\u001b[39m\u001b[39mentra a hacer las particiones\u001b[39m\u001b[39m'\u001b[39m)\n",
      "Cell \u001b[1;32mIn[135], line 14\u001b[0m, in \u001b[0;36mignacioDist.__init__\u001b[1;34m(self, embedding_dim, device, negative_weight, lr, logger, pred_l1, use_scheduler, offset, max_len, **kwargs)\u001b[0m\n\u001b[0;32m     11\u001b[0m \u001b[39mself\u001b[39m\u001b[39m.\u001b[39mbuild_graph(embedding_dim,\u001b[39m*\u001b[39m\u001b[39m*\u001b[39mkwargs)\n\u001b[0;32m     12\u001b[0m \u001b[39mself\u001b[39m\u001b[39m.\u001b[39moptim \u001b[39m=\u001b[39m  tr\u001b[39m.\u001b[39moptim\u001b[39m.\u001b[39mAdam(\u001b[39mself\u001b[39m\u001b[39m.\u001b[39mparameters(), lr\u001b[39m=\u001b[39mlr)\n\u001b[1;32m---> 14\u001b[0m \u001b[39mself\u001b[39;49m\u001b[39m.\u001b[39;49mto(device)\n",
      "File \u001b[1;32mc:\\Users\\ignac\\anaconda3\\envs\\env1\\lib\\site-packages\\torch\\nn\\modules\\module.py:987\u001b[0m, in \u001b[0;36mModule.to\u001b[1;34m(self, *args, **kwargs)\u001b[0m\n\u001b[0;32m    983\u001b[0m         \u001b[39mreturn\u001b[39;00m t\u001b[39m.\u001b[39mto(device, dtype \u001b[39mif\u001b[39;00m t\u001b[39m.\u001b[39mis_floating_point() \u001b[39mor\u001b[39;00m t\u001b[39m.\u001b[39mis_complex() \u001b[39melse\u001b[39;00m \u001b[39mNone\u001b[39;00m,\n\u001b[0;32m    984\u001b[0m                     non_blocking, memory_format\u001b[39m=\u001b[39mconvert_to_format)\n\u001b[0;32m    985\u001b[0m     \u001b[39mreturn\u001b[39;00m t\u001b[39m.\u001b[39mto(device, dtype \u001b[39mif\u001b[39;00m t\u001b[39m.\u001b[39mis_floating_point() \u001b[39mor\u001b[39;00m t\u001b[39m.\u001b[39mis_complex() \u001b[39melse\u001b[39;00m \u001b[39mNone\u001b[39;00m, non_blocking)\n\u001b[1;32m--> 987\u001b[0m \u001b[39mreturn\u001b[39;00m \u001b[39mself\u001b[39;49m\u001b[39m.\u001b[39;49m_apply(convert)\n",
      "File \u001b[1;32mc:\\Users\\ignac\\anaconda3\\envs\\env1\\lib\\site-packages\\torch\\nn\\modules\\module.py:639\u001b[0m, in \u001b[0;36mModule._apply\u001b[1;34m(self, fn)\u001b[0m\n\u001b[0;32m    637\u001b[0m \u001b[39mdef\u001b[39;00m \u001b[39m_apply\u001b[39m(\u001b[39mself\u001b[39m, fn):\n\u001b[0;32m    638\u001b[0m     \u001b[39mfor\u001b[39;00m module \u001b[39min\u001b[39;00m \u001b[39mself\u001b[39m\u001b[39m.\u001b[39mchildren():\n\u001b[1;32m--> 639\u001b[0m         module\u001b[39m.\u001b[39;49m_apply(fn)\n\u001b[0;32m    641\u001b[0m     \u001b[39mdef\u001b[39;00m \u001b[39mcompute_should_use_set_data\u001b[39m(tensor, tensor_applied):\n\u001b[0;32m    642\u001b[0m         \u001b[39mif\u001b[39;00m torch\u001b[39m.\u001b[39m_has_compatible_shallow_copy_type(tensor, tensor_applied):\n\u001b[0;32m    643\u001b[0m             \u001b[39m# If the new tensor has compatible tensor type as the existing tensor,\u001b[39;00m\n\u001b[0;32m    644\u001b[0m             \u001b[39m# the current behavior is to change the tensor in-place using `.data =`,\u001b[39;00m\n\u001b[1;32m   (...)\u001b[0m\n\u001b[0;32m    649\u001b[0m             \u001b[39m# global flag to let the user control whether they want the future\u001b[39;00m\n\u001b[0;32m    650\u001b[0m             \u001b[39m# behavior of overwriting the existing tensor or not.\u001b[39;00m\n",
      "File \u001b[1;32mc:\\Users\\ignac\\anaconda3\\envs\\env1\\lib\\site-packages\\torch\\nn\\modules\\module.py:639\u001b[0m, in \u001b[0;36mModule._apply\u001b[1;34m(self, fn)\u001b[0m\n\u001b[0;32m    637\u001b[0m \u001b[39mdef\u001b[39;00m \u001b[39m_apply\u001b[39m(\u001b[39mself\u001b[39m, fn):\n\u001b[0;32m    638\u001b[0m     \u001b[39mfor\u001b[39;00m module \u001b[39min\u001b[39;00m \u001b[39mself\u001b[39m\u001b[39m.\u001b[39mchildren():\n\u001b[1;32m--> 639\u001b[0m         module\u001b[39m.\u001b[39;49m_apply(fn)\n\u001b[0;32m    641\u001b[0m     \u001b[39mdef\u001b[39;00m \u001b[39mcompute_should_use_set_data\u001b[39m(tensor, tensor_applied):\n\u001b[0;32m    642\u001b[0m         \u001b[39mif\u001b[39;00m torch\u001b[39m.\u001b[39m_has_compatible_shallow_copy_type(tensor, tensor_applied):\n\u001b[0;32m    643\u001b[0m             \u001b[39m# If the new tensor has compatible tensor type as the existing tensor,\u001b[39;00m\n\u001b[0;32m    644\u001b[0m             \u001b[39m# the current behavior is to change the tensor in-place using `.data =`,\u001b[39;00m\n\u001b[1;32m   (...)\u001b[0m\n\u001b[0;32m    649\u001b[0m             \u001b[39m# global flag to let the user control whether they want the future\u001b[39;00m\n\u001b[0;32m    650\u001b[0m             \u001b[39m# behavior of overwriting the existing tensor or not.\u001b[39;00m\n",
      "File \u001b[1;32mc:\\Users\\ignac\\anaconda3\\envs\\env1\\lib\\site-packages\\torch\\nn\\modules\\module.py:662\u001b[0m, in \u001b[0;36mModule._apply\u001b[1;34m(self, fn)\u001b[0m\n\u001b[0;32m    658\u001b[0m \u001b[39m# Tensors stored in modules are graph leaves, and we don't want to\u001b[39;00m\n\u001b[0;32m    659\u001b[0m \u001b[39m# track autograd history of `param_applied`, so we have to use\u001b[39;00m\n\u001b[0;32m    660\u001b[0m \u001b[39m# `with torch.no_grad():`\u001b[39;00m\n\u001b[0;32m    661\u001b[0m \u001b[39mwith\u001b[39;00m torch\u001b[39m.\u001b[39mno_grad():\n\u001b[1;32m--> 662\u001b[0m     param_applied \u001b[39m=\u001b[39m fn(param)\n\u001b[0;32m    663\u001b[0m should_use_set_data \u001b[39m=\u001b[39m compute_should_use_set_data(param, param_applied)\n\u001b[0;32m    664\u001b[0m \u001b[39mif\u001b[39;00m should_use_set_data:\n",
      "File \u001b[1;32mc:\\Users\\ignac\\anaconda3\\envs\\env1\\lib\\site-packages\\torch\\nn\\modules\\module.py:985\u001b[0m, in \u001b[0;36mModule.to.<locals>.convert\u001b[1;34m(t)\u001b[0m\n\u001b[0;32m    982\u001b[0m \u001b[39mif\u001b[39;00m convert_to_format \u001b[39mis\u001b[39;00m \u001b[39mnot\u001b[39;00m \u001b[39mNone\u001b[39;00m \u001b[39mand\u001b[39;00m t\u001b[39m.\u001b[39mdim() \u001b[39min\u001b[39;00m (\u001b[39m4\u001b[39m, \u001b[39m5\u001b[39m):\n\u001b[0;32m    983\u001b[0m     \u001b[39mreturn\u001b[39;00m t\u001b[39m.\u001b[39mto(device, dtype \u001b[39mif\u001b[39;00m t\u001b[39m.\u001b[39mis_floating_point() \u001b[39mor\u001b[39;00m t\u001b[39m.\u001b[39mis_complex() \u001b[39melse\u001b[39;00m \u001b[39mNone\u001b[39;00m,\n\u001b[0;32m    984\u001b[0m                 non_blocking, memory_format\u001b[39m=\u001b[39mconvert_to_format)\n\u001b[1;32m--> 985\u001b[0m \u001b[39mreturn\u001b[39;00m t\u001b[39m.\u001b[39;49mto(device, dtype \u001b[39mif\u001b[39;49;00m t\u001b[39m.\u001b[39;49mis_floating_point() \u001b[39mor\u001b[39;49;00m t\u001b[39m.\u001b[39;49mis_complex() \u001b[39melse\u001b[39;49;00m \u001b[39mNone\u001b[39;49;00m, non_blocking)\n",
      "\u001b[1;31mOutOfMemoryError\u001b[0m: CUDA out of memory. Tried to allocate 5.97 GiB (GPU 0; 6.00 GiB total capacity; 4.70 MiB already allocated; 4.79 GiB free; 10.00 MiB reserved in total by PyTorch) If reserved memory is >> allocated memory try setting max_split_size_mb to avoid fragmentation.  See documentation for Memory Management and PYTORCH_CUDA_ALLOC_CONF"
     ]
    }
   ],
   "source": [
    "import torch as tr\n",
    "from torch.utils.data import DataLoader, random_split\n",
    "\n",
    "out_path = f\"results/\"\n",
    "batch_size = 2\n",
    "DEVICE = \"cuda\" \n",
    "model = ignacioDist(kernel=11, device=DEVICE,max_len=200) \n",
    "# model.load_state_dict(tr.load(f\"{out_path}model_200len.pmt\"))\n",
    "print('entra a hacer las particiones')\n",
    "dataset=Data_dist('dist01.csv',max_len=200)\n",
    "\n",
    "\n",
    "n_train = int(0.8 * len(dataset))\n",
    "n_test = int(0.1 * len(dataset))\n",
    "n_val = len(dataset) - n_train - n_test\n",
    "\n",
    "\n",
    "\n",
    "train_data, val_data, test_data = random_split(dataset, [n_train, n_val, n_test], generator=tr.Generator().manual_seed(42))\n",
    "train_loader = DataLoader(train_data, batch_size=batch_size, shuffle=True)\n",
    "val_loader = DataLoader(val_data, batch_size=batch_size, shuffle=False)\n",
    "test_loader = DataLoader(test_data, batch_size=batch_size, shuffle=False)\n",
    "\n",
    "print(\"train batches\", len(train_loader))\n",
    "print(\"val batches\", len(val_loader))\n",
    "print(\"test batches\", len(test_loader))\n",
    "best_f1, patience_counter = 0, 0\n",
    "for epoch in range(250):\n",
    "    train_loss,train_f1 = model.tr(train_loader)\n",
    "    print(f'train loop epoch {epoch}')\n",
    "    val_loss,val_f1 = model.tst(val_loader)\n",
    "    if val_f1 > best_f1:\n",
    "        best_f1 = val_f1\n",
    "        best_epoch = epoch\n",
    "        tr.save(model.state_dict(), f\"{out_path}model_800len_translr.pmt\")\n",
    "        patience_counter = 0\n",
    "    else:\n",
    "        patience_counter += 1\n",
    "        if patience_counter>50:\n",
    "            break\n",
    "    print(f\"epoch {epoch}: train loss {train_loss:.2f} val loss {val_loss:.2f} train f1 {train_f1:.2f} val f1 {val_f1:.2f}\")\n",
    "print(\"Start test\")\n",
    "model.load_state_dict(tr.load(f\"{out_path}model_800len_translr.pmt\"))\n",
    "test_loss, test_f1 = model.tst(test_loader)\n",
    "print(f\"best epoch {best_epoch} best_valf1 {best_f1:.3f} test_loss {test_loss:.3f} test_f1 {test_f1:.3f}\")"
   ]
  },
  {
   "attachments": {},
   "cell_type": "markdown",
   "metadata": {},
   "source": [
    "nvidia-smi -l 5"
   ]
  }
 ],
 "metadata": {
  "kernelspec": {
   "display_name": "env1",
   "language": "python",
   "name": "python3"
  },
  "language_info": {
   "codemirror_mode": {
    "name": "ipython",
    "version": 3
   },
   "file_extension": ".py",
   "mimetype": "text/x-python",
   "name": "python",
   "nbconvert_exporter": "python",
   "pygments_lexer": "ipython3",
   "version": "3.10.6"
  },
  "orig_nbformat": 4,
  "vscode": {
   "interpreter": {
    "hash": "4ed3e6cc5c7432365a96df38fce69df9b8db9f12bb053758617ad518b9099df1"
   }
  }
 },
 "nbformat": 4,
 "nbformat_minor": 2
}
