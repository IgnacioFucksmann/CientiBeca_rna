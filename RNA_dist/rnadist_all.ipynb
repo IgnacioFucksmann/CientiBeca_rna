{
 "cells": [
  {
   "cell_type": "code",
   "execution_count": 1,
   "metadata": {
    "colab": {
     "base_uri": "https://localhost:8080/"
    },
    "execution": {
     "iopub.execute_input": "2022-09-18T16:44:20.608704Z",
     "iopub.status.busy": "2022-09-18T16:44:20.608525Z",
     "iopub.status.idle": "2022-09-18T16:44:20.717435Z",
     "shell.execute_reply": "2022-09-18T16:44:20.716833Z",
     "shell.execute_reply.started": "2022-09-18T16:44:20.608675Z"
    },
    "id": "uD6m8d8WOMOl",
    "outputId": "e37a7cc3-0c4c-4c40-bc52-7c277ac0b585",
    "tags": []
   },
   "outputs": [
    {
     "name": "stderr",
     "output_type": "stream",
     "text": [
      "'RNAdistance' is not recognized as an internal or external command,\n",
      "operable program or batch file.\n"
     ]
    }
   ],
   "source": [
    "!RNAdistance --version\n",
    "#RNAdistance 2.3.0cuda"
   ]
  },
  {
   "cell_type": "code",
   "execution_count": 4,
   "metadata": {
    "execution": {
     "iopub.execute_input": "2022-09-18T16:44:20.718667Z",
     "iopub.status.busy": "2022-09-18T16:44:20.718480Z",
     "iopub.status.idle": "2022-09-18T16:44:20.962700Z",
     "shell.execute_reply": "2022-09-18T16:44:20.962287Z",
     "shell.execute_reply.started": "2022-09-18T16:44:20.718643Z"
    },
    "id": "yWhxkHDVOAmh",
    "tags": []
   },
   "outputs": [],
   "source": [
    "import os\n",
    "import subprocess\n",
    "import numpy as np\n",
    "import pandas as pd\n",
    "from tqdm import tqdm"
   ]
  },
  {
   "cell_type": "code",
   "execution_count": 5,
   "metadata": {
    "execution": {
     "iopub.execute_input": "2022-09-18T16:44:20.963538Z",
     "iopub.status.busy": "2022-09-18T16:44:20.963421Z",
     "iopub.status.idle": "2022-09-18T16:44:20.965772Z",
     "shell.execute_reply": "2022-09-18T16:44:20.965311Z",
     "shell.execute_reply.started": "2022-09-18T16:44:20.963525Z"
    },
    "id": "IDNO931sOUYt",
    "tags": []
   },
   "outputs": [],
   "source": [
    "DATA_PATH = \"./data/\""
   ]
  },
  {
   "cell_type": "code",
   "execution_count": 7,
   "metadata": {
    "colab": {
     "base_uri": "https://localhost:8080/",
     "height": 326
    },
    "execution": {
     "iopub.execute_input": "2022-09-18T16:44:20.966515Z",
     "iopub.status.busy": "2022-09-18T16:44:20.966399Z",
     "iopub.status.idle": "2022-09-18T16:44:21.006923Z",
     "shell.execute_reply": "2022-09-18T16:44:21.006556Z",
     "shell.execute_reply.started": "2022-09-18T16:44:20.966501Z"
    },
    "id": "yPwRRDGnOr-E",
    "outputId": "661d7c61-6b55-43e4-ecf6-f74d790c8d3a",
    "tags": []
   },
   "outputs": [
    {
     "data": {
      "text/html": [
       "<div>\n",
       "<style scoped>\n",
       "    .dataframe tbody tr th:only-of-type {\n",
       "        vertical-align: middle;\n",
       "    }\n",
       "\n",
       "    .dataframe tbody tr th {\n",
       "        vertical-align: top;\n",
       "    }\n",
       "\n",
       "    .dataframe thead th {\n",
       "        text-align: right;\n",
       "    }\n",
       "</style>\n",
       "<table border=\"1\" class=\"dataframe\">\n",
       "  <thead>\n",
       "    <tr style=\"text-align: right;\">\n",
       "      <th></th>\n",
       "      <th>id</th>\n",
       "    </tr>\n",
       "    <tr>\n",
       "      <th>folding</th>\n",
       "      <th></th>\n",
       "    </tr>\n",
       "  </thead>\n",
       "  <tbody>\n",
       "    <tr>\n",
       "      <th>.(((((((((...(.(((((((.((.((.(((((.......))))).....)).)).))))))).).((.......((((.......)))).......)).)))))))))..</th>\n",
       "      <td>5s_Acholeplasma-laidlawii-1</td>\n",
       "    </tr>\n",
       "    <tr>\n",
       "      <th>.(((((((((.....((((((((....((((...(((...........))).))))...)))).))))(((.........((((....)))).........)))..)))))))))</th>\n",
       "      <td>5s_Acidovorax-temperans-1</td>\n",
       "    </tr>\n",
       "    <tr>\n",
       "      <th>(((((((....(((.((((........((((((((.....)))..)))))...(((.........)))((((((....))))))................((((((((..((((.........))))))))))))...(((((.....((((((...((((((......))))))...)))))).......)))))..(((((..((((((....))))))..)))))..(((((((((.(((...........))).)))))))))..............(((((((....((((((..(((....)))..))))))..))))))))))).)))...)))))))....</th>\n",
       "      <td>tmRNA_Stre.gord._TRW-29390_1-349</td>\n",
       "    </tr>\n",
       "  </tbody>\n",
       "</table>\n",
       "</div>"
      ],
      "text/plain": [
       "                                                                                  id\n",
       " folding                                                                            \n",
       ".(((((((((...(.(((((((.((.((.(((((.......)))))....       5s_Acholeplasma-laidlawii-1\n",
       ".(((((((((.....((((((((....((((...(((.............         5s_Acidovorax-temperans-1\n",
       "(((((((....(((.((((........((((((((.....)))..))...  tmRNA_Stre.gord._TRW-29390_1-349"
      ]
     },
     "metadata": {},
     "output_type": "display_data"
    },
    {
     "data": {
      "text/plain": [
       "(3975, 1)"
      ]
     },
     "metadata": {},
     "output_type": "display_data"
    }
   ],
   "source": [
    "raw_fn = \"archiveII_220808_rnafold\"\n",
    "dref_all = pd.read_csv(DATA_PATH + raw_fn + \".csv\", index_col = 1)\n",
    "display(dref_all.head(3))\n",
    "display(dref_all.shape)"
   ]
  },
  {
   "cell_type": "code",
   "execution_count": 8,
   "metadata": {
    "execution": {
     "iopub.execute_input": "2022-09-18T16:44:21.007443Z",
     "iopub.status.busy": "2022-09-18T16:44:21.007337Z",
     "iopub.status.idle": "2022-09-19T10:52:49.557131Z",
     "shell.execute_reply": "2022-09-19T10:52:49.556746Z",
     "shell.execute_reply.started": "2022-09-18T16:44:21.007429Z"
    },
    "id": "YM1qkGJfBm5l",
    "tags": []
   },
   "outputs": [
    {
     "name": "stderr",
     "output_type": "stream",
     "text": [
      "  0%|          | 0/3975 [00:00<?, ?it/s]\n"
     ]
    },
    {
     "ename": "AttributeError",
     "evalue": "'Series' object has no attribute 'structure'",
     "output_type": "error",
     "traceback": [
      "\u001b[1;31m---------------------------------------------------------------------------\u001b[0m",
      "\u001b[1;31mAttributeError\u001b[0m                            Traceback (most recent call last)",
      "Cell \u001b[1;32mIn [8], line 10\u001b[0m\n\u001b[0;32m      8\u001b[0m \u001b[39mfor\u001b[39;00m j,rowj \u001b[39min\u001b[39;00m dref\u001b[39m.\u001b[39miterrows():\n\u001b[0;32m      9\u001b[0m     \u001b[39mif\u001b[39;00m Results\u001b[39m.\u001b[39mloc[j,i] \u001b[39m<\u001b[39m \u001b[39m0\u001b[39m:\n\u001b[1;32m---> 10\u001b[0m         echo_line \u001b[39m=\u001b[39m rowi\u001b[39m.\u001b[39;49mstructure \u001b[39m+\u001b[39m \u001b[39m\"\u001b[39m\u001b[39m\\n\u001b[39;00m\u001b[39m\"\u001b[39m \u001b[39m+\u001b[39m rowj\u001b[39m.\u001b[39mstructure\n\u001b[0;32m     11\u001b[0m         \u001b[39m# RNAdistance cannot handle pseudoknots (treated as unpaired) https://pubmed.ncbi.nlm.nih.gov/36077037/\u001b[39;00m\n\u001b[0;32m     12\u001b[0m         echo_line \u001b[39m=\u001b[39m echo_line\u001b[39m.\u001b[39mreplace(\u001b[39m'\u001b[39m\u001b[39m<\u001b[39m\u001b[39m'\u001b[39m,\u001b[39m'\u001b[39m\u001b[39m.\u001b[39m\u001b[39m'\u001b[39m)\u001b[39m.\u001b[39mreplace(\u001b[39m'\u001b[39m\u001b[39m>\u001b[39m\u001b[39m'\u001b[39m,\u001b[39m'\u001b[39m\u001b[39m.\u001b[39m\u001b[39m'\u001b[39m)\u001b[39m.\u001b[39mreplace(\u001b[39m'\u001b[39m\u001b[39m{\u001b[39m\u001b[39m'\u001b[39m,\u001b[39m'\u001b[39m\u001b[39m.\u001b[39m\u001b[39m'\u001b[39m)\u001b[39m.\u001b[39mreplace(\u001b[39m'\u001b[39m\u001b[39m}\u001b[39m\u001b[39m'\u001b[39m,\u001b[39m'\u001b[39m\u001b[39m.\u001b[39m\u001b[39m'\u001b[39m)\n",
      "File \u001b[1;32mc:\\Users\\ignac\\AppData\\Local\\Programs\\Python\\Python310\\lib\\site-packages\\pandas\\core\\generic.py:5907\u001b[0m, in \u001b[0;36mNDFrame.__getattr__\u001b[1;34m(self, name)\u001b[0m\n\u001b[0;32m   5900\u001b[0m \u001b[39mif\u001b[39;00m (\n\u001b[0;32m   5901\u001b[0m     name \u001b[39mnot\u001b[39;00m \u001b[39min\u001b[39;00m \u001b[39mself\u001b[39m\u001b[39m.\u001b[39m_internal_names_set\n\u001b[0;32m   5902\u001b[0m     \u001b[39mand\u001b[39;00m name \u001b[39mnot\u001b[39;00m \u001b[39min\u001b[39;00m \u001b[39mself\u001b[39m\u001b[39m.\u001b[39m_metadata\n\u001b[0;32m   5903\u001b[0m     \u001b[39mand\u001b[39;00m name \u001b[39mnot\u001b[39;00m \u001b[39min\u001b[39;00m \u001b[39mself\u001b[39m\u001b[39m.\u001b[39m_accessors\n\u001b[0;32m   5904\u001b[0m     \u001b[39mand\u001b[39;00m \u001b[39mself\u001b[39m\u001b[39m.\u001b[39m_info_axis\u001b[39m.\u001b[39m_can_hold_identifiers_and_holds_name(name)\n\u001b[0;32m   5905\u001b[0m ):\n\u001b[0;32m   5906\u001b[0m     \u001b[39mreturn\u001b[39;00m \u001b[39mself\u001b[39m[name]\n\u001b[1;32m-> 5907\u001b[0m \u001b[39mreturn\u001b[39;00m \u001b[39mobject\u001b[39;49m\u001b[39m.\u001b[39;49m\u001b[39m__getattribute__\u001b[39;49m(\u001b[39mself\u001b[39;49m, name)\n",
      "\u001b[1;31mAttributeError\u001b[0m: 'Series' object has no attribute 'structure'"
     ]
    }
   ],
   "source": [
    "#dref = dref_all.head(10) # testing\n",
    "dref = dref_all\n",
    "\n",
    "Results = pd.DataFrame(np.zeros((len(dref.index),len(dref.index))))-1\n",
    "Results.index = dref.index\n",
    "Results.columns = dref.index\n",
    "for i,rowi in tqdm(dref.iterrows(),total=len(dref)):\n",
    "    for j,rowj in dref.iterrows():\n",
    "        if Results.loc[j,i] < 0:\n",
    "            echo_line = rowi.structure + \"\\n\" + rowj.structure\n",
    "            # RNAdistance cannot handle pseudoknots (treated as unpaired) https://pubmed.ncbi.nlm.nih.gov/36077037/\n",
    "            echo_line = echo_line.replace('<','.').replace('>','.').replace('{','.').replace('}','.')\n",
    "            oo = subprocess.check_output([\"RNAdistance\"], input=echo_line.encode('utf-8'))\n",
    "\n",
    "            if oo != b\"\":\n",
    "                max_len = len(rowi.structure) if len(rowi.structure)>len(rowj.structure) else len(rowj.structure) \n",
    "                Results.loc[i,j] = float(oo[2:])/max_len\n",
    "            else:\n",
    "                Results.loc[i,j] = np.nan\n",
    "                print(\"Warning: RNAdistance error with {} and {}\".format(i, j))\n",
    "        else:\n",
    "            Results.loc[i,j] = Results.loc[j,i]"
   ]
  },
  {
   "cell_type": "code",
   "execution_count": 9,
   "metadata": {
    "execution": {
     "iopub.execute_input": "2022-09-19T12:06:03.657210Z",
     "iopub.status.busy": "2022-09-19T12:06:03.657055Z",
     "iopub.status.idle": "2022-09-19T12:06:16.139120Z",
     "shell.execute_reply": "2022-09-19T12:06:16.138762Z",
     "shell.execute_reply.started": "2022-09-19T12:06:03.657194Z"
    },
    "tags": []
   },
   "outputs": [],
   "source": [
    "Results.to_csv(\"data/rnadist_f_all.csv\")"
   ]
  },
  {
   "cell_type": "code",
   "execution_count": 10,
   "metadata": {
    "execution": {
     "iopub.execute_input": "2022-09-19T12:05:31.808034Z",
     "iopub.status.busy": "2022-09-19T12:05:31.807895Z",
     "iopub.status.idle": "2022-09-19T12:05:32.084405Z",
     "shell.execute_reply": "2022-09-19T12:05:32.083992Z",
     "shell.execute_reply.started": "2022-09-19T12:05:31.808019Z"
    },
    "tags": []
   },
   "outputs": [
    {
     "ename": "ImportError",
     "evalue": "Missing optional dependency 'pytables'.  Use pip or conda to install pytables.",
     "output_type": "error",
     "traceback": [
      "\u001b[1;31m---------------------------------------------------------------------------\u001b[0m",
      "\u001b[1;31mModuleNotFoundError\u001b[0m                       Traceback (most recent call last)",
      "File \u001b[1;32mc:\\Users\\ignac\\AppData\\Local\\Programs\\Python\\Python310\\lib\\site-packages\\pandas\\compat\\_optional.py:142\u001b[0m, in \u001b[0;36mimport_optional_dependency\u001b[1;34m(name, extra, errors, min_version)\u001b[0m\n\u001b[0;32m    141\u001b[0m \u001b[39mtry\u001b[39;00m:\n\u001b[1;32m--> 142\u001b[0m     module \u001b[39m=\u001b[39m importlib\u001b[39m.\u001b[39;49mimport_module(name)\n\u001b[0;32m    143\u001b[0m \u001b[39mexcept\u001b[39;00m \u001b[39mImportError\u001b[39;00m:\n",
      "File \u001b[1;32mc:\\Users\\ignac\\AppData\\Local\\Programs\\Python\\Python310\\lib\\importlib\\__init__.py:126\u001b[0m, in \u001b[0;36mimport_module\u001b[1;34m(name, package)\u001b[0m\n\u001b[0;32m    125\u001b[0m         level \u001b[39m+\u001b[39m\u001b[39m=\u001b[39m \u001b[39m1\u001b[39m\n\u001b[1;32m--> 126\u001b[0m \u001b[39mreturn\u001b[39;00m _bootstrap\u001b[39m.\u001b[39;49m_gcd_import(name[level:], package, level)\n",
      "File \u001b[1;32m<frozen importlib._bootstrap>:1050\u001b[0m, in \u001b[0;36m_gcd_import\u001b[1;34m(name, package, level)\u001b[0m\n",
      "File \u001b[1;32m<frozen importlib._bootstrap>:1027\u001b[0m, in \u001b[0;36m_find_and_load\u001b[1;34m(name, import_)\u001b[0m\n",
      "File \u001b[1;32m<frozen importlib._bootstrap>:1004\u001b[0m, in \u001b[0;36m_find_and_load_unlocked\u001b[1;34m(name, import_)\u001b[0m\n",
      "\u001b[1;31mModuleNotFoundError\u001b[0m: No module named 'tables'",
      "\nDuring handling of the above exception, another exception occurred:\n",
      "\u001b[1;31mImportError\u001b[0m                               Traceback (most recent call last)",
      "Cell \u001b[1;32mIn [10], line 1\u001b[0m\n\u001b[1;32m----> 1\u001b[0m Results\u001b[39m.\u001b[39;49mto_hdf(\u001b[39m\"\u001b[39;49m\u001b[39mdata/rnadist_f_all.h5\u001b[39;49m\u001b[39m\"\u001b[39;49m, key\u001b[39m=\u001b[39;49m\u001b[39m'\u001b[39;49m\u001b[39mrnadist\u001b[39;49m\u001b[39m'\u001b[39;49m, mode\u001b[39m=\u001b[39;49m\u001b[39m'\u001b[39;49m\u001b[39mw\u001b[39;49m\u001b[39m'\u001b[39;49m)\n",
      "File \u001b[1;32mc:\\Users\\ignac\\AppData\\Local\\Programs\\Python\\Python310\\lib\\site-packages\\pandas\\core\\generic.py:2798\u001b[0m, in \u001b[0;36mNDFrame.to_hdf\u001b[1;34m(self, path_or_buf, key, mode, complevel, complib, append, format, index, min_itemsize, nan_rep, dropna, data_columns, errors, encoding)\u001b[0m\n\u001b[0;32m   2794\u001b[0m \u001b[39mfrom\u001b[39;00m \u001b[39mpandas\u001b[39;00m\u001b[39m.\u001b[39;00m\u001b[39mio\u001b[39;00m \u001b[39mimport\u001b[39;00m pytables\n\u001b[0;32m   2796\u001b[0m \u001b[39m# Argument 3 to \"to_hdf\" has incompatible type \"NDFrame\"; expected\u001b[39;00m\n\u001b[0;32m   2797\u001b[0m \u001b[39m# \"Union[DataFrame, Series]\" [arg-type]\u001b[39;00m\n\u001b[1;32m-> 2798\u001b[0m pytables\u001b[39m.\u001b[39;49mto_hdf(\n\u001b[0;32m   2799\u001b[0m     path_or_buf,\n\u001b[0;32m   2800\u001b[0m     key,\n\u001b[0;32m   2801\u001b[0m     \u001b[39mself\u001b[39;49m,  \u001b[39m# type: ignore[arg-type]\u001b[39;49;00m\n\u001b[0;32m   2802\u001b[0m     mode\u001b[39m=\u001b[39;49mmode,\n\u001b[0;32m   2803\u001b[0m     complevel\u001b[39m=\u001b[39;49mcomplevel,\n\u001b[0;32m   2804\u001b[0m     complib\u001b[39m=\u001b[39;49mcomplib,\n\u001b[0;32m   2805\u001b[0m     append\u001b[39m=\u001b[39;49mappend,\n\u001b[0;32m   2806\u001b[0m     \u001b[39mformat\u001b[39;49m\u001b[39m=\u001b[39;49m\u001b[39mformat\u001b[39;49m,\n\u001b[0;32m   2807\u001b[0m     index\u001b[39m=\u001b[39;49mindex,\n\u001b[0;32m   2808\u001b[0m     min_itemsize\u001b[39m=\u001b[39;49mmin_itemsize,\n\u001b[0;32m   2809\u001b[0m     nan_rep\u001b[39m=\u001b[39;49mnan_rep,\n\u001b[0;32m   2810\u001b[0m     dropna\u001b[39m=\u001b[39;49mdropna,\n\u001b[0;32m   2811\u001b[0m     data_columns\u001b[39m=\u001b[39;49mdata_columns,\n\u001b[0;32m   2812\u001b[0m     errors\u001b[39m=\u001b[39;49merrors,\n\u001b[0;32m   2813\u001b[0m     encoding\u001b[39m=\u001b[39;49mencoding,\n\u001b[0;32m   2814\u001b[0m )\n",
      "File \u001b[1;32mc:\\Users\\ignac\\AppData\\Local\\Programs\\Python\\Python310\\lib\\site-packages\\pandas\\io\\pytables.py:298\u001b[0m, in \u001b[0;36mto_hdf\u001b[1;34m(path_or_buf, key, value, mode, complevel, complib, append, format, index, min_itemsize, nan_rep, dropna, data_columns, errors, encoding)\u001b[0m\n\u001b[0;32m    296\u001b[0m path_or_buf \u001b[39m=\u001b[39m stringify_path(path_or_buf)\n\u001b[0;32m    297\u001b[0m \u001b[39mif\u001b[39;00m \u001b[39misinstance\u001b[39m(path_or_buf, \u001b[39mstr\u001b[39m):\n\u001b[1;32m--> 298\u001b[0m     \u001b[39mwith\u001b[39;00m HDFStore(\n\u001b[0;32m    299\u001b[0m         path_or_buf, mode\u001b[39m=\u001b[39;49mmode, complevel\u001b[39m=\u001b[39;49mcomplevel, complib\u001b[39m=\u001b[39;49mcomplib\n\u001b[0;32m    300\u001b[0m     ) \u001b[39mas\u001b[39;00m store:\n\u001b[0;32m    301\u001b[0m         f(store)\n\u001b[0;32m    302\u001b[0m \u001b[39melse\u001b[39;00m:\n",
      "File \u001b[1;32mc:\\Users\\ignac\\AppData\\Local\\Programs\\Python\\Python310\\lib\\site-packages\\pandas\\io\\pytables.py:559\u001b[0m, in \u001b[0;36mHDFStore.__init__\u001b[1;34m(self, path, mode, complevel, complib, fletcher32, **kwargs)\u001b[0m\n\u001b[0;32m    556\u001b[0m \u001b[39mif\u001b[39;00m \u001b[39m\"\u001b[39m\u001b[39mformat\u001b[39m\u001b[39m\"\u001b[39m \u001b[39min\u001b[39;00m kwargs:\n\u001b[0;32m    557\u001b[0m     \u001b[39mraise\u001b[39;00m \u001b[39mValueError\u001b[39;00m(\u001b[39m\"\u001b[39m\u001b[39mformat is not a defined argument for HDFStore\u001b[39m\u001b[39m\"\u001b[39m)\n\u001b[1;32m--> 559\u001b[0m tables \u001b[39m=\u001b[39m import_optional_dependency(\u001b[39m\"\u001b[39;49m\u001b[39mtables\u001b[39;49m\u001b[39m\"\u001b[39;49m)\n\u001b[0;32m    561\u001b[0m \u001b[39mif\u001b[39;00m complib \u001b[39mis\u001b[39;00m \u001b[39mnot\u001b[39;00m \u001b[39mNone\u001b[39;00m \u001b[39mand\u001b[39;00m complib \u001b[39mnot\u001b[39;00m \u001b[39min\u001b[39;00m tables\u001b[39m.\u001b[39mfilters\u001b[39m.\u001b[39mall_complibs:\n\u001b[0;32m    562\u001b[0m     \u001b[39mraise\u001b[39;00m \u001b[39mValueError\u001b[39;00m(\n\u001b[0;32m    563\u001b[0m         \u001b[39mf\u001b[39m\u001b[39m\"\u001b[39m\u001b[39mcomplib only supports \u001b[39m\u001b[39m{\u001b[39;00mtables\u001b[39m.\u001b[39mfilters\u001b[39m.\u001b[39mall_complibs\u001b[39m}\u001b[39;00m\u001b[39m compression.\u001b[39m\u001b[39m\"\u001b[39m\n\u001b[0;32m    564\u001b[0m     )\n",
      "File \u001b[1;32mc:\\Users\\ignac\\AppData\\Local\\Programs\\Python\\Python310\\lib\\site-packages\\pandas\\compat\\_optional.py:145\u001b[0m, in \u001b[0;36mimport_optional_dependency\u001b[1;34m(name, extra, errors, min_version)\u001b[0m\n\u001b[0;32m    143\u001b[0m \u001b[39mexcept\u001b[39;00m \u001b[39mImportError\u001b[39;00m:\n\u001b[0;32m    144\u001b[0m     \u001b[39mif\u001b[39;00m errors \u001b[39m==\u001b[39m \u001b[39m\"\u001b[39m\u001b[39mraise\u001b[39m\u001b[39m\"\u001b[39m:\n\u001b[1;32m--> 145\u001b[0m         \u001b[39mraise\u001b[39;00m \u001b[39mImportError\u001b[39;00m(msg)\n\u001b[0;32m    146\u001b[0m     \u001b[39melse\u001b[39;00m:\n\u001b[0;32m    147\u001b[0m         \u001b[39mreturn\u001b[39;00m \u001b[39mNone\u001b[39;00m\n",
      "\u001b[1;31mImportError\u001b[0m: Missing optional dependency 'pytables'.  Use pip or conda to install pytables."
     ]
    }
   ],
   "source": [
    "Results.to_hdf(\"data/rnadist_f_all.h5\", key='rnadist', mode='w')"
   ]
  }
 ],
 "metadata": {
  "colab": {
   "collapsed_sections": [
    "6U0b9zfkdLQ1",
    "nfdY5m8HgSCb"
   ],
   "provenance": []
  },
  "kernelspec": {
   "display_name": "Python 3.10.7 64-bit",
   "language": "python",
   "name": "python3"
  },
  "language_info": {
   "codemirror_mode": {
    "name": "ipython",
    "version": 3
   },
   "file_extension": ".py",
   "mimetype": "text/x-python",
   "name": "python",
   "nbconvert_exporter": "python",
   "pygments_lexer": "ipython3",
   "version": "3.10.7 (tags/v3.10.7:6cc6b13, Sep  5 2022, 14:08:36) [MSC v.1933 64 bit (AMD64)]"
  },
  "vscode": {
   "interpreter": {
    "hash": "a087bc2cd502e1578adfe219ded9af3cfd89c3a06a40cadd640bc3d226e7ad5a"
   }
  }
 },
 "nbformat": 4,
 "nbformat_minor": 4
}
